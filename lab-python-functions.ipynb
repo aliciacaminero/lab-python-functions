{
 "cells": [
  {
   "cell_type": "markdown",
   "id": "25d7736c-ba17-4aff-b6bb-66eba20fbf4e",
   "metadata": {},
   "source": [
    "# Lab | Functions"
   ]
  },
  {
   "cell_type": "markdown",
   "id": "0c581062-8967-4d93-b06e-62833222f930",
   "metadata": {
    "tags": []
   },
   "source": [
    "## Exercise: Managing Customer Orders with Functions\n",
    "\n",
    "In the previous exercise, you improved the code for managing customer orders by using loops and flow control. Now, let's take it a step further and refactor the code by introducing functions.\n",
    "\n",
    "Follow the steps below to complete the exercise:\n",
    "\n",
    "1. Define a function named `initialize_inventory` that takes `products` as a parameter. Inside the function, implement the code for initializing the inventory dictionary using a loop and user input.\n",
    "\n",
    "2. Define a function named `get_customer_orders` that takes no parameters. Inside the function, implement the code for prompting the user to enter the product names using a loop. The function should return the `customer_orders` set.\n",
    "\n",
    "3. Define a function named `update_inventory` that takes `customer_orders` and `inventory` as parameters. Inside the function, implement the code for updating the inventory dictionary based on the customer orders.\n",
    "\n",
    "4. Define a function named `calculate_order_statistics` that takes `customer_orders` and `products` as parameters. Inside the function, implement the code for calculating the order statistics (total products ordered, and percentage of unique products ordered). The function should return these values.\n",
    "\n",
    "5. Define a function named `print_order_statistics` that takes `order_statistics` as a parameter. Inside the function, implement the code for printing the order statistics.\n",
    "\n",
    "6. Define a function named `print_updated_inventory` that takes `inventory` as a parameter. Inside the function, implement the code for printing the updated inventory.\n",
    "\n",
    "7. Call the functions in the appropriate sequence to execute the program and manage customer orders.\n",
    "\n",
    "Hints for functions:\n",
    "\n",
    "- Consider the input parameters required for each function and their return values.\n",
    "- Utilize function parameters and return values to transfer data between functions.\n",
    "- Test your functions individually to ensure they work correctly.\n",
    "\n",
    "\n"
   ]
  },
  {
   "cell_type": "code",
   "execution_count": 15,
   "id": "b0f71df9",
   "metadata": {},
   "outputs": [],
   "source": [
    "products = [\"t-shirt\",\"mug\",\"hat\",\"book\",\"keychain\"]"
   ]
  },
  {
   "cell_type": "code",
   "execution_count": 16,
   "id": "3edc5d12",
   "metadata": {},
   "outputs": [],
   "source": [
    "def initialize_inventory(products):\n",
    "    inventory = {}\n",
    "    for key in products:   \n",
    "        inventory[key] = input(f\"{key} stock: \")\n",
    "    return inventory"
   ]
  },
  {
   "cell_type": "code",
   "execution_count": 17,
   "id": "cc7fef4d",
   "metadata": {},
   "outputs": [],
   "source": [
    "def add_products(customers_orders, products):\n",
    "    producto = input(\"Añade un producto a tu pedido: \")\n",
    "    while producto not in products:\n",
    "        producto = input(\"Añade un producto que este en la siguiente lista: t-shirt, mug,  hat, book, keychain: \")\n",
    "    customers_orders.add(producto)\n"
   ]
  },
  {
   "cell_type": "code",
   "execution_count": 18,
   "id": "7b94a354",
   "metadata": {},
   "outputs": [],
   "source": [
    "def get_customer_orders():\n",
    "\n",
    "    customers_orders = set()\n",
    "\n",
    "    add_products(customers_orders, products)\n",
    "    \n",
    "    decision = input('¿Quieres añadir otro producto?: ').lower()\n",
    "\n",
    "    while decision not in ('si', 'no'):\n",
    "        decision = input('Por favor, escriba si o no: ')\n",
    "        decision = decision.lower()\n",
    "\n",
    "    while decision == 'si':\n",
    "        add_products(customers_orders, products)\n",
    "        \n",
    "        decision = input('¿Quieres añadir otro producto?: ').lower()\n",
    "        \n",
    "        while decision not in ('si', 'no'):\n",
    "            decision = input('Por favor, escriba si o no: ').lower()\n",
    "\n",
    "    return customers_orders"
   ]
  },
  {
   "cell_type": "code",
   "execution_count": 19,
   "id": "a26f3c50",
   "metadata": {},
   "outputs": [],
   "source": [
    "def update_inventory(customers_orders, inventory):\n",
    "    \n",
    "    for values in customers_orders:\n",
    "        num_product = inventory[values]\n",
    "        new_num_products = int(num_product) - 1\n",
    "        inventory[values] = new_num_products"
   ]
  },
  {
   "cell_type": "code",
   "execution_count": 20,
   "id": "f4460198",
   "metadata": {},
   "outputs": [],
   "source": [
    "def calculate_order_statistics(customers_orders, products):\n",
    "\n",
    "    total_products_ordered=len(customers_orders)\n",
    "\n",
    "    total_products = len(products)\n",
    "\n",
    "    percentage_ordered = total_products_ordered / total_products * 100\n",
    "\n",
    "    return percentage_ordered, total_products_ordered"
   ]
  },
  {
   "cell_type": "code",
   "execution_count": 21,
   "id": "8de5dee7",
   "metadata": {},
   "outputs": [],
   "source": [
    "def print_order_statistics(percentage_ordered, total_products_ordered):\n",
    "    \n",
    "    print(f'El porcentaje de productos ordenados es: {percentage_ordered}')\n",
    "\n",
    "    print(f'Order statistics \\nTotal products ordered: {total_products_ordered} \\nPercentage of products ordered: {percentage_ordered} %')\n",
    "    "
   ]
  },
  {
   "cell_type": "code",
   "execution_count": 22,
   "metadata": {},
   "outputs": [
    {
     "name": "stdout",
     "output_type": "stream",
     "text": [
      "El porcentaje de productos ordenados es: 20.0\n",
      "Order statistics \n",
      "Total products ordered: 1 \n",
      "Percentage of products ordered: 20.0 %\n"
     ]
    }
   ],
   "source": [
    "inventory = initialize_inventory(products)\n",
    "\n",
    "customers_orders = get_customer_orders()\n",
    "\n",
    "update_inventory(customers_orders, inventory)\n",
    "\n",
    "calculate_order_statistics(customers_orders, products)\n",
    "\n",
    "percentage_ordered, total_products_ordered = calculate_order_statistics(customers_orders, products)\n",
    "\n",
    "print_order_statistics(percentage_ordered, total_products_ordered)"
   ]
  }
 ],
 "metadata": {
  "kernelspec": {
   "display_name": "Python 3 (ipykernel)",
   "language": "python",
   "name": "python3"
  },
  "language_info": {
   "codemirror_mode": {
    "name": "ipython",
    "version": 3
   },
   "file_extension": ".py",
   "mimetype": "text/x-python",
   "name": "python",
   "nbconvert_exporter": "python",
   "pygments_lexer": "ipython3",
   "version": "3.9.6"
  }
 },
 "nbformat": 4,
 "nbformat_minor": 5
}
